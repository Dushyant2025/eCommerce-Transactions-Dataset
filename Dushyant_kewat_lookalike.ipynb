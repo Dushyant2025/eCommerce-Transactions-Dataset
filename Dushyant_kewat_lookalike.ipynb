{
  "nbformat": 4,
  "nbformat_minor": 0,
  "metadata": {
    "colab": {
      "provenance": [],
      "gpuType": "T4"
    },
    "kernelspec": {
      "name": "python3",
      "display_name": "Python 3"
    },
    "language_info": {
      "name": "python"
    },
    "accelerator": "GPU"
  },
  "cells": [
    {
      "cell_type": "code",
      "execution_count": null,
      "metadata": {
        "id": "eKh2nv7XcEAD"
      },
      "outputs": [],
      "source": [
        "import pandas as pd\n",
        "import numpy as np\n",
        "import matplotlib.pyplot as plt\n",
        "import seaborn as sns\n",
        "from sklearn.metrics.pairwise import cosine_similarity\n",
        "from sklearn.preprocessing import StandardScaler"
      ]
    },
    {
      "cell_type": "code",
      "source": [
        "df=pd.read_csv(\"final.csv\")"
      ],
      "metadata": {
        "id": "8HtvGWiAchPB"
      },
      "execution_count": null,
      "outputs": []
    },
    {
      "cell_type": "code",
      "source": [
        "df.head()"
      ],
      "metadata": {
        "colab": {
          "base_uri": "https://localhost:8080/",
          "height": 399
        },
        "id": "wndPkp_gcj6l",
        "outputId": "61e2c479-bf97-48fa-87f4-44bff06ed49f"
      },
      "execution_count": null,
      "outputs": [
        {
          "output_type": "execute_result",
          "data": {
            "text/plain": [
              "  TransactionID CustomerID ProductID TransactionDate  Quantity  \\\n",
              "0        T00001      C0199      P067      2024-08-25         1   \n",
              "1        T00166      C0127      P067      2024-04-25         1   \n",
              "2        T00363      C0070      P067      2024-03-21         3   \n",
              "3        T00442      C0188      P067      2024-12-26         1   \n",
              "4        T00490      C0195      P067      2024-11-24         3   \n",
              "\n",
              "                       ProductName     Category   Price       CustomerName  \\\n",
              "0  comfortliving bluetooth speaker  Electronics  300.68     Andrea Jenkins   \n",
              "1  comfortliving bluetooth speaker  Electronics  300.68    Kathryn Stevens   \n",
              "2  comfortliving bluetooth speaker  Electronics  300.68      Timothy Perez   \n",
              "3  comfortliving bluetooth speaker  Electronics  300.68          Anna Ball   \n",
              "4  comfortliving bluetooth speaker  Electronics  300.68  Jeremy Mclaughlin   \n",
              "\n",
              "          Region  SignupDate  TotalValue  tnMonth  tWeek  tYear  VariantID  \n",
              "0         Europe  2022-12-03      300.68        8      6   2024          1  \n",
              "1         Europe  2024-04-04      300.68        4      3   2024          1  \n",
              "2         Europe  2022-03-15      902.04        3      3   2024          1  \n",
              "3  South America  2022-05-17      300.68       12      3   2024          1  \n",
              "4  South America  2024-09-17      902.04       11      6   2024          1  "
            ],
            "text/html": [
              "\n",
              "  <div id=\"df-f0aeb16a-091d-4b0a-8030-f376a8b5cb9f\" class=\"colab-df-container\">\n",
              "    <div>\n",
              "<style scoped>\n",
              "    .dataframe tbody tr th:only-of-type {\n",
              "        vertical-align: middle;\n",
              "    }\n",
              "\n",
              "    .dataframe tbody tr th {\n",
              "        vertical-align: top;\n",
              "    }\n",
              "\n",
              "    .dataframe thead th {\n",
              "        text-align: right;\n",
              "    }\n",
              "</style>\n",
              "<table border=\"1\" class=\"dataframe\">\n",
              "  <thead>\n",
              "    <tr style=\"text-align: right;\">\n",
              "      <th></th>\n",
              "      <th>TransactionID</th>\n",
              "      <th>CustomerID</th>\n",
              "      <th>ProductID</th>\n",
              "      <th>TransactionDate</th>\n",
              "      <th>Quantity</th>\n",
              "      <th>ProductName</th>\n",
              "      <th>Category</th>\n",
              "      <th>Price</th>\n",
              "      <th>CustomerName</th>\n",
              "      <th>Region</th>\n",
              "      <th>SignupDate</th>\n",
              "      <th>TotalValue</th>\n",
              "      <th>tnMonth</th>\n",
              "      <th>tWeek</th>\n",
              "      <th>tYear</th>\n",
              "      <th>VariantID</th>\n",
              "    </tr>\n",
              "  </thead>\n",
              "  <tbody>\n",
              "    <tr>\n",
              "      <th>0</th>\n",
              "      <td>T00001</td>\n",
              "      <td>C0199</td>\n",
              "      <td>P067</td>\n",
              "      <td>2024-08-25</td>\n",
              "      <td>1</td>\n",
              "      <td>comfortliving bluetooth speaker</td>\n",
              "      <td>Electronics</td>\n",
              "      <td>300.68</td>\n",
              "      <td>Andrea Jenkins</td>\n",
              "      <td>Europe</td>\n",
              "      <td>2022-12-03</td>\n",
              "      <td>300.68</td>\n",
              "      <td>8</td>\n",
              "      <td>6</td>\n",
              "      <td>2024</td>\n",
              "      <td>1</td>\n",
              "    </tr>\n",
              "    <tr>\n",
              "      <th>1</th>\n",
              "      <td>T00166</td>\n",
              "      <td>C0127</td>\n",
              "      <td>P067</td>\n",
              "      <td>2024-04-25</td>\n",
              "      <td>1</td>\n",
              "      <td>comfortliving bluetooth speaker</td>\n",
              "      <td>Electronics</td>\n",
              "      <td>300.68</td>\n",
              "      <td>Kathryn Stevens</td>\n",
              "      <td>Europe</td>\n",
              "      <td>2024-04-04</td>\n",
              "      <td>300.68</td>\n",
              "      <td>4</td>\n",
              "      <td>3</td>\n",
              "      <td>2024</td>\n",
              "      <td>1</td>\n",
              "    </tr>\n",
              "    <tr>\n",
              "      <th>2</th>\n",
              "      <td>T00363</td>\n",
              "      <td>C0070</td>\n",
              "      <td>P067</td>\n",
              "      <td>2024-03-21</td>\n",
              "      <td>3</td>\n",
              "      <td>comfortliving bluetooth speaker</td>\n",
              "      <td>Electronics</td>\n",
              "      <td>300.68</td>\n",
              "      <td>Timothy Perez</td>\n",
              "      <td>Europe</td>\n",
              "      <td>2022-03-15</td>\n",
              "      <td>902.04</td>\n",
              "      <td>3</td>\n",
              "      <td>3</td>\n",
              "      <td>2024</td>\n",
              "      <td>1</td>\n",
              "    </tr>\n",
              "    <tr>\n",
              "      <th>3</th>\n",
              "      <td>T00442</td>\n",
              "      <td>C0188</td>\n",
              "      <td>P067</td>\n",
              "      <td>2024-12-26</td>\n",
              "      <td>1</td>\n",
              "      <td>comfortliving bluetooth speaker</td>\n",
              "      <td>Electronics</td>\n",
              "      <td>300.68</td>\n",
              "      <td>Anna Ball</td>\n",
              "      <td>South America</td>\n",
              "      <td>2022-05-17</td>\n",
              "      <td>300.68</td>\n",
              "      <td>12</td>\n",
              "      <td>3</td>\n",
              "      <td>2024</td>\n",
              "      <td>1</td>\n",
              "    </tr>\n",
              "    <tr>\n",
              "      <th>4</th>\n",
              "      <td>T00490</td>\n",
              "      <td>C0195</td>\n",
              "      <td>P067</td>\n",
              "      <td>2024-11-24</td>\n",
              "      <td>3</td>\n",
              "      <td>comfortliving bluetooth speaker</td>\n",
              "      <td>Electronics</td>\n",
              "      <td>300.68</td>\n",
              "      <td>Jeremy Mclaughlin</td>\n",
              "      <td>South America</td>\n",
              "      <td>2024-09-17</td>\n",
              "      <td>902.04</td>\n",
              "      <td>11</td>\n",
              "      <td>6</td>\n",
              "      <td>2024</td>\n",
              "      <td>1</td>\n",
              "    </tr>\n",
              "  </tbody>\n",
              "</table>\n",
              "</div>\n",
              "    <div class=\"colab-df-buttons\">\n",
              "\n",
              "  <div class=\"colab-df-container\">\n",
              "    <button class=\"colab-df-convert\" onclick=\"convertToInteractive('df-f0aeb16a-091d-4b0a-8030-f376a8b5cb9f')\"\n",
              "            title=\"Convert this dataframe to an interactive table.\"\n",
              "            style=\"display:none;\">\n",
              "\n",
              "  <svg xmlns=\"http://www.w3.org/2000/svg\" height=\"24px\" viewBox=\"0 -960 960 960\">\n",
              "    <path d=\"M120-120v-720h720v720H120Zm60-500h600v-160H180v160Zm220 220h160v-160H400v160Zm0 220h160v-160H400v160ZM180-400h160v-160H180v160Zm440 0h160v-160H620v160ZM180-180h160v-160H180v160Zm440 0h160v-160H620v160Z\"/>\n",
              "  </svg>\n",
              "    </button>\n",
              "\n",
              "  <style>\n",
              "    .colab-df-container {\n",
              "      display:flex;\n",
              "      gap: 12px;\n",
              "    }\n",
              "\n",
              "    .colab-df-convert {\n",
              "      background-color: #E8F0FE;\n",
              "      border: none;\n",
              "      border-radius: 50%;\n",
              "      cursor: pointer;\n",
              "      display: none;\n",
              "      fill: #1967D2;\n",
              "      height: 32px;\n",
              "      padding: 0 0 0 0;\n",
              "      width: 32px;\n",
              "    }\n",
              "\n",
              "    .colab-df-convert:hover {\n",
              "      background-color: #E2EBFA;\n",
              "      box-shadow: 0px 1px 2px rgba(60, 64, 67, 0.3), 0px 1px 3px 1px rgba(60, 64, 67, 0.15);\n",
              "      fill: #174EA6;\n",
              "    }\n",
              "\n",
              "    .colab-df-buttons div {\n",
              "      margin-bottom: 4px;\n",
              "    }\n",
              "\n",
              "    [theme=dark] .colab-df-convert {\n",
              "      background-color: #3B4455;\n",
              "      fill: #D2E3FC;\n",
              "    }\n",
              "\n",
              "    [theme=dark] .colab-df-convert:hover {\n",
              "      background-color: #434B5C;\n",
              "      box-shadow: 0px 1px 3px 1px rgba(0, 0, 0, 0.15);\n",
              "      filter: drop-shadow(0px 1px 2px rgba(0, 0, 0, 0.3));\n",
              "      fill: #FFFFFF;\n",
              "    }\n",
              "  </style>\n",
              "\n",
              "    <script>\n",
              "      const buttonEl =\n",
              "        document.querySelector('#df-f0aeb16a-091d-4b0a-8030-f376a8b5cb9f button.colab-df-convert');\n",
              "      buttonEl.style.display =\n",
              "        google.colab.kernel.accessAllowed ? 'block' : 'none';\n",
              "\n",
              "      async function convertToInteractive(key) {\n",
              "        const element = document.querySelector('#df-f0aeb16a-091d-4b0a-8030-f376a8b5cb9f');\n",
              "        const dataTable =\n",
              "          await google.colab.kernel.invokeFunction('convertToInteractive',\n",
              "                                                    [key], {});\n",
              "        if (!dataTable) return;\n",
              "\n",
              "        const docLinkHtml = 'Like what you see? Visit the ' +\n",
              "          '<a target=\"_blank\" href=https://colab.research.google.com/notebooks/data_table.ipynb>data table notebook</a>'\n",
              "          + ' to learn more about interactive tables.';\n",
              "        element.innerHTML = '';\n",
              "        dataTable['output_type'] = 'display_data';\n",
              "        await google.colab.output.renderOutput(dataTable, element);\n",
              "        const docLink = document.createElement('div');\n",
              "        docLink.innerHTML = docLinkHtml;\n",
              "        element.appendChild(docLink);\n",
              "      }\n",
              "    </script>\n",
              "  </div>\n",
              "\n",
              "\n",
              "<div id=\"df-9a76a40c-7394-48a3-979e-21e7d875968f\">\n",
              "  <button class=\"colab-df-quickchart\" onclick=\"quickchart('df-9a76a40c-7394-48a3-979e-21e7d875968f')\"\n",
              "            title=\"Suggest charts\"\n",
              "            style=\"display:none;\">\n",
              "\n",
              "<svg xmlns=\"http://www.w3.org/2000/svg\" height=\"24px\"viewBox=\"0 0 24 24\"\n",
              "     width=\"24px\">\n",
              "    <g>\n",
              "        <path d=\"M19 3H5c-1.1 0-2 .9-2 2v14c0 1.1.9 2 2 2h14c1.1 0 2-.9 2-2V5c0-1.1-.9-2-2-2zM9 17H7v-7h2v7zm4 0h-2V7h2v10zm4 0h-2v-4h2v4z\"/>\n",
              "    </g>\n",
              "</svg>\n",
              "  </button>\n",
              "\n",
              "<style>\n",
              "  .colab-df-quickchart {\n",
              "      --bg-color: #E8F0FE;\n",
              "      --fill-color: #1967D2;\n",
              "      --hover-bg-color: #E2EBFA;\n",
              "      --hover-fill-color: #174EA6;\n",
              "      --disabled-fill-color: #AAA;\n",
              "      --disabled-bg-color: #DDD;\n",
              "  }\n",
              "\n",
              "  [theme=dark] .colab-df-quickchart {\n",
              "      --bg-color: #3B4455;\n",
              "      --fill-color: #D2E3FC;\n",
              "      --hover-bg-color: #434B5C;\n",
              "      --hover-fill-color: #FFFFFF;\n",
              "      --disabled-bg-color: #3B4455;\n",
              "      --disabled-fill-color: #666;\n",
              "  }\n",
              "\n",
              "  .colab-df-quickchart {\n",
              "    background-color: var(--bg-color);\n",
              "    border: none;\n",
              "    border-radius: 50%;\n",
              "    cursor: pointer;\n",
              "    display: none;\n",
              "    fill: var(--fill-color);\n",
              "    height: 32px;\n",
              "    padding: 0;\n",
              "    width: 32px;\n",
              "  }\n",
              "\n",
              "  .colab-df-quickchart:hover {\n",
              "    background-color: var(--hover-bg-color);\n",
              "    box-shadow: 0 1px 2px rgba(60, 64, 67, 0.3), 0 1px 3px 1px rgba(60, 64, 67, 0.15);\n",
              "    fill: var(--button-hover-fill-color);\n",
              "  }\n",
              "\n",
              "  .colab-df-quickchart-complete:disabled,\n",
              "  .colab-df-quickchart-complete:disabled:hover {\n",
              "    background-color: var(--disabled-bg-color);\n",
              "    fill: var(--disabled-fill-color);\n",
              "    box-shadow: none;\n",
              "  }\n",
              "\n",
              "  .colab-df-spinner {\n",
              "    border: 2px solid var(--fill-color);\n",
              "    border-color: transparent;\n",
              "    border-bottom-color: var(--fill-color);\n",
              "    animation:\n",
              "      spin 1s steps(1) infinite;\n",
              "  }\n",
              "\n",
              "  @keyframes spin {\n",
              "    0% {\n",
              "      border-color: transparent;\n",
              "      border-bottom-color: var(--fill-color);\n",
              "      border-left-color: var(--fill-color);\n",
              "    }\n",
              "    20% {\n",
              "      border-color: transparent;\n",
              "      border-left-color: var(--fill-color);\n",
              "      border-top-color: var(--fill-color);\n",
              "    }\n",
              "    30% {\n",
              "      border-color: transparent;\n",
              "      border-left-color: var(--fill-color);\n",
              "      border-top-color: var(--fill-color);\n",
              "      border-right-color: var(--fill-color);\n",
              "    }\n",
              "    40% {\n",
              "      border-color: transparent;\n",
              "      border-right-color: var(--fill-color);\n",
              "      border-top-color: var(--fill-color);\n",
              "    }\n",
              "    60% {\n",
              "      border-color: transparent;\n",
              "      border-right-color: var(--fill-color);\n",
              "    }\n",
              "    80% {\n",
              "      border-color: transparent;\n",
              "      border-right-color: var(--fill-color);\n",
              "      border-bottom-color: var(--fill-color);\n",
              "    }\n",
              "    90% {\n",
              "      border-color: transparent;\n",
              "      border-bottom-color: var(--fill-color);\n",
              "    }\n",
              "  }\n",
              "</style>\n",
              "\n",
              "  <script>\n",
              "    async function quickchart(key) {\n",
              "      const quickchartButtonEl =\n",
              "        document.querySelector('#' + key + ' button');\n",
              "      quickchartButtonEl.disabled = true;  // To prevent multiple clicks.\n",
              "      quickchartButtonEl.classList.add('colab-df-spinner');\n",
              "      try {\n",
              "        const charts = await google.colab.kernel.invokeFunction(\n",
              "            'suggestCharts', [key], {});\n",
              "      } catch (error) {\n",
              "        console.error('Error during call to suggestCharts:', error);\n",
              "      }\n",
              "      quickchartButtonEl.classList.remove('colab-df-spinner');\n",
              "      quickchartButtonEl.classList.add('colab-df-quickchart-complete');\n",
              "    }\n",
              "    (() => {\n",
              "      let quickchartButtonEl =\n",
              "        document.querySelector('#df-9a76a40c-7394-48a3-979e-21e7d875968f button');\n",
              "      quickchartButtonEl.style.display =\n",
              "        google.colab.kernel.accessAllowed ? 'block' : 'none';\n",
              "    })();\n",
              "  </script>\n",
              "</div>\n",
              "\n",
              "    </div>\n",
              "  </div>\n"
            ],
            "application/vnd.google.colaboratory.intrinsic+json": {
              "type": "dataframe",
              "variable_name": "df",
              "summary": "{\n  \"name\": \"df\",\n  \"rows\": 799,\n  \"fields\": [\n    {\n      \"column\": \"TransactionID\",\n      \"properties\": {\n        \"dtype\": \"string\",\n        \"num_unique_values\": 799,\n        \"samples\": [\n          \"T00789\",\n          \"T00933\",\n          \"T00455\"\n        ],\n        \"semantic_type\": \"\",\n        \"description\": \"\"\n      }\n    },\n    {\n      \"column\": \"CustomerID\",\n      \"properties\": {\n        \"dtype\": \"category\",\n        \"num_unique_values\": 183,\n        \"samples\": [\n          \"C0087\",\n          \"C0134\",\n          \"C0124\"\n        ],\n        \"semantic_type\": \"\",\n        \"description\": \"\"\n      }\n    },\n    {\n      \"column\": \"ProductID\",\n      \"properties\": {\n        \"dtype\": \"category\",\n        \"num_unique_values\": 100,\n        \"samples\": [\n          \"P082\",\n          \"P052\",\n          \"P035\"\n        ],\n        \"semantic_type\": \"\",\n        \"description\": \"\"\n      }\n    },\n    {\n      \"column\": \"TransactionDate\",\n      \"properties\": {\n        \"dtype\": \"object\",\n        \"num_unique_values\": 328,\n        \"samples\": [\n          \"2024-06-29\",\n          \"2024-02-16\",\n          \"2024-03-31\"\n        ],\n        \"semantic_type\": \"\",\n        \"description\": \"\"\n      }\n    },\n    {\n      \"column\": \"Quantity\",\n      \"properties\": {\n        \"dtype\": \"number\",\n        \"std\": 1,\n        \"min\": 1,\n        \"max\": 4,\n        \"num_unique_values\": 4,\n        \"samples\": [\n          3,\n          4,\n          1\n        ],\n        \"semantic_type\": \"\",\n        \"description\": \"\"\n      }\n    },\n    {\n      \"column\": \"ProductName\",\n      \"properties\": {\n        \"dtype\": \"category\",\n        \"num_unique_values\": 66,\n        \"samples\": [\n          \"activewear jacket\",\n          \"bookworld bluetooth speaker\",\n          \"comfortliving bluetooth speaker\"\n        ],\n        \"semantic_type\": \"\",\n        \"description\": \"\"\n      }\n    },\n    {\n      \"column\": \"Category\",\n      \"properties\": {\n        \"dtype\": \"category\",\n        \"num_unique_values\": 4,\n        \"samples\": [\n          \"Clothing\",\n          \"Home Decor\",\n          \"Electronics\"\n        ],\n        \"semantic_type\": \"\",\n        \"description\": \"\"\n      }\n    },\n    {\n      \"column\": \"Price\",\n      \"properties\": {\n        \"dtype\": \"number\",\n        \"std\": 141.01268467423404,\n        \"min\": 16.08,\n        \"max\": 497.76,\n        \"num_unique_values\": 100,\n        \"samples\": [\n          55.99,\n          354.81,\n          30.59\n        ],\n        \"semantic_type\": \"\",\n        \"description\": \"\"\n      }\n    },\n    {\n      \"column\": \"CustomerName\",\n      \"properties\": {\n        \"dtype\": \"category\",\n        \"num_unique_values\": 183,\n        \"samples\": [\n          \"Travis Campbell\",\n          \"Theresa Gonzalez\",\n          \"Lindsay Perez\"\n        ],\n        \"semantic_type\": \"\",\n        \"description\": \"\"\n      }\n    },\n    {\n      \"column\": \"Region\",\n      \"properties\": {\n        \"dtype\": \"category\",\n        \"num_unique_values\": 4,\n        \"samples\": [\n          \"South America\",\n          \"Asia\",\n          \"Europe\"\n        ],\n        \"semantic_type\": \"\",\n        \"description\": \"\"\n      }\n    },\n    {\n      \"column\": \"SignupDate\",\n      \"properties\": {\n        \"dtype\": \"object\",\n        \"num_unique_values\": 166,\n        \"samples\": [\n          \"2022-07-04\",\n          \"2022-08-15\",\n          \"2022-04-07\"\n        ],\n        \"semantic_type\": \"\",\n        \"description\": \"\"\n      }\n    },\n    {\n      \"column\": \"TotalValue\",\n      \"properties\": {\n        \"dtype\": \"number\",\n        \"std\": 494.0490908028533,\n        \"min\": 16.08,\n        \"max\": 1991.04,\n        \"num_unique_values\": 345,\n        \"samples\": [\n          441.82,\n          1465.89,\n          1809.68\n        ],\n        \"semantic_type\": \"\",\n        \"description\": \"\"\n      }\n    },\n    {\n      \"column\": \"tnMonth\",\n      \"properties\": {\n        \"dtype\": \"number\",\n        \"std\": 3,\n        \"min\": 1,\n        \"max\": 12,\n        \"num_unique_values\": 12,\n        \"samples\": [\n          7,\n          6,\n          8\n        ],\n        \"semantic_type\": \"\",\n        \"description\": \"\"\n      }\n    },\n    {\n      \"column\": \"tWeek\",\n      \"properties\": {\n        \"dtype\": \"number\",\n        \"std\": 1,\n        \"min\": 0,\n        \"max\": 6,\n        \"num_unique_values\": 7,\n        \"samples\": [\n          6,\n          3,\n          4\n        ],\n        \"semantic_type\": \"\",\n        \"description\": \"\"\n      }\n    },\n    {\n      \"column\": \"tYear\",\n      \"properties\": {\n        \"dtype\": \"number\",\n        \"std\": 0,\n        \"min\": 2023,\n        \"max\": 2024,\n        \"num_unique_values\": 2,\n        \"samples\": [\n          2023,\n          2024\n        ],\n        \"semantic_type\": \"\",\n        \"description\": \"\"\n      }\n    },\n    {\n      \"column\": \"VariantID\",\n      \"properties\": {\n        \"dtype\": \"number\",\n        \"std\": 0,\n        \"min\": 1,\n        \"max\": 4,\n        \"num_unique_values\": 4,\n        \"samples\": [\n          2,\n          4\n        ],\n        \"semantic_type\": \"\",\n        \"description\": \"\"\n      }\n    }\n  ]\n}"
            }
          },
          "metadata": {},
          "execution_count": 4
        }
      ]
    },
    {
      "cell_type": "code",
      "source": [
        "df.shape"
      ],
      "metadata": {
        "colab": {
          "base_uri": "https://localhost:8080/"
        },
        "id": "jYOVa6utckue",
        "outputId": "5068a6b1-3259-47c1-e5b1-abe46ffb874c"
      },
      "execution_count": null,
      "outputs": [
        {
          "output_type": "execute_result",
          "data": {
            "text/plain": [
              "(799, 16)"
            ]
          },
          "metadata": {},
          "execution_count": 5
        }
      ]
    },
    {
      "cell_type": "code",
      "source": [
        "df.isna().sum()"
      ],
      "metadata": {
        "colab": {
          "base_uri": "https://localhost:8080/",
          "height": 585
        },
        "id": "oJksR_cdcxi-",
        "outputId": "a288c104-e8cc-4d0a-c5f8-953ab1bcf07e"
      },
      "execution_count": null,
      "outputs": [
        {
          "output_type": "execute_result",
          "data": {
            "text/plain": [
              "TransactionID      0\n",
              "CustomerID         0\n",
              "ProductID          0\n",
              "TransactionDate    0\n",
              "Quantity           0\n",
              "ProductName        0\n",
              "Category           0\n",
              "Price              0\n",
              "CustomerName       0\n",
              "Region             0\n",
              "SignupDate         0\n",
              "TotalValue         0\n",
              "tnMonth            0\n",
              "tWeek              0\n",
              "tYear              0\n",
              "VariantID          0\n",
              "dtype: int64"
            ],
            "text/html": [
              "<div>\n",
              "<style scoped>\n",
              "    .dataframe tbody tr th:only-of-type {\n",
              "        vertical-align: middle;\n",
              "    }\n",
              "\n",
              "    .dataframe tbody tr th {\n",
              "        vertical-align: top;\n",
              "    }\n",
              "\n",
              "    .dataframe thead th {\n",
              "        text-align: right;\n",
              "    }\n",
              "</style>\n",
              "<table border=\"1\" class=\"dataframe\">\n",
              "  <thead>\n",
              "    <tr style=\"text-align: right;\">\n",
              "      <th></th>\n",
              "      <th>0</th>\n",
              "    </tr>\n",
              "  </thead>\n",
              "  <tbody>\n",
              "    <tr>\n",
              "      <th>TransactionID</th>\n",
              "      <td>0</td>\n",
              "    </tr>\n",
              "    <tr>\n",
              "      <th>CustomerID</th>\n",
              "      <td>0</td>\n",
              "    </tr>\n",
              "    <tr>\n",
              "      <th>ProductID</th>\n",
              "      <td>0</td>\n",
              "    </tr>\n",
              "    <tr>\n",
              "      <th>TransactionDate</th>\n",
              "      <td>0</td>\n",
              "    </tr>\n",
              "    <tr>\n",
              "      <th>Quantity</th>\n",
              "      <td>0</td>\n",
              "    </tr>\n",
              "    <tr>\n",
              "      <th>ProductName</th>\n",
              "      <td>0</td>\n",
              "    </tr>\n",
              "    <tr>\n",
              "      <th>Category</th>\n",
              "      <td>0</td>\n",
              "    </tr>\n",
              "    <tr>\n",
              "      <th>Price</th>\n",
              "      <td>0</td>\n",
              "    </tr>\n",
              "    <tr>\n",
              "      <th>CustomerName</th>\n",
              "      <td>0</td>\n",
              "    </tr>\n",
              "    <tr>\n",
              "      <th>Region</th>\n",
              "      <td>0</td>\n",
              "    </tr>\n",
              "    <tr>\n",
              "      <th>SignupDate</th>\n",
              "      <td>0</td>\n",
              "    </tr>\n",
              "    <tr>\n",
              "      <th>TotalValue</th>\n",
              "      <td>0</td>\n",
              "    </tr>\n",
              "    <tr>\n",
              "      <th>tnMonth</th>\n",
              "      <td>0</td>\n",
              "    </tr>\n",
              "    <tr>\n",
              "      <th>tWeek</th>\n",
              "      <td>0</td>\n",
              "    </tr>\n",
              "    <tr>\n",
              "      <th>tYear</th>\n",
              "      <td>0</td>\n",
              "    </tr>\n",
              "    <tr>\n",
              "      <th>VariantID</th>\n",
              "      <td>0</td>\n",
              "    </tr>\n",
              "  </tbody>\n",
              "</table>\n",
              "</div><br><label><b>dtype:</b> int64</label>"
            ]
          },
          "metadata": {},
          "execution_count": 6
        }
      ]
    },
    {
      "cell_type": "code",
      "source": [
        "df.duplicated().sum()"
      ],
      "metadata": {
        "colab": {
          "base_uri": "https://localhost:8080/"
        },
        "id": "8_P60fr2czgw",
        "outputId": "74c1c8ef-426c-4d0d-a600-651ef7bf46c6"
      },
      "execution_count": null,
      "outputs": [
        {
          "output_type": "execute_result",
          "data": {
            "text/plain": [
              "0"
            ]
          },
          "metadata": {},
          "execution_count": 7
        }
      ]
    },
    {
      "cell_type": "code",
      "source": [
        "df.info()"
      ],
      "metadata": {
        "colab": {
          "base_uri": "https://localhost:8080/"
        },
        "id": "2kXM9sSwc3Pn",
        "outputId": "89bd9cd6-13f2-4fa6-dbc3-203dde896b7c"
      },
      "execution_count": null,
      "outputs": [
        {
          "output_type": "stream",
          "name": "stdout",
          "text": [
            "<class 'pandas.core.frame.DataFrame'>\n",
            "RangeIndex: 799 entries, 0 to 798\n",
            "Data columns (total 16 columns):\n",
            " #   Column           Non-Null Count  Dtype  \n",
            "---  ------           --------------  -----  \n",
            " 0   TransactionID    799 non-null    object \n",
            " 1   CustomerID       799 non-null    object \n",
            " 2   ProductID        799 non-null    object \n",
            " 3   TransactionDate  799 non-null    object \n",
            " 4   Quantity         799 non-null    int64  \n",
            " 5   ProductName      799 non-null    object \n",
            " 6   Category         799 non-null    object \n",
            " 7   Price            799 non-null    float64\n",
            " 8   CustomerName     799 non-null    object \n",
            " 9   Region           799 non-null    object \n",
            " 10  SignupDate       799 non-null    object \n",
            " 11  TotalValue       799 non-null    float64\n",
            " 12  tnMonth          799 non-null    int64  \n",
            " 13  tWeek            799 non-null    int64  \n",
            " 14  tYear            799 non-null    int64  \n",
            " 15  VariantID        799 non-null    int64  \n",
            "dtypes: float64(2), int64(5), object(9)\n",
            "memory usage: 100.0+ KB\n"
          ]
        }
      ]
    },
    {
      "cell_type": "code",
      "source": [
        "customer_features = df.groupby(\"CustomerID\").agg({\n",
        "    'TotalValue': 'sum',\n",
        "    'Category': lambda x: ', '.join(x.unique()),\n",
        "    'Quantity': 'sum',\n",
        "    'Price': 'mean'\n",
        "}).reset_index()"
      ],
      "metadata": {
        "id": "H_KhfOxIxk-p"
      },
      "execution_count": null,
      "outputs": []
    },
    {
      "cell_type": "code",
      "source": [
        "# One-Hot Encoding of the 'Category' column\n",
        "category_dummies = customer_features['Category'].str.get_dummies(sep=', ')"
      ],
      "metadata": {
        "id": "IdLLr1eryC4i"
      },
      "execution_count": null,
      "outputs": []
    },
    {
      "cell_type": "code",
      "source": [
        "\n",
        "#Normalize numerical features like TotalValue and Quantity\n",
        "scaler = StandardScaler()\n",
        "customer_features[['TotalValue', 'Quantity', 'Price']] = scaler.fit_transform(\n",
        "    customer_features[['TotalValue', 'Quantity', 'Price']]\n",
        ")"
      ],
      "metadata": {
        "id": "yIs0cbx0yC6x"
      },
      "execution_count": null,
      "outputs": []
    },
    {
      "cell_type": "code",
      "source": [
        "# Concatenates normalized numerical features with one-hot-encoded categorical features and Drops the original Category column since it is now represented as dummies.\n",
        "customer_features = pd.concat([customer_features.drop(['Category'], axis=1), category_dummies], axis=1)"
      ],
      "metadata": {
        "id": "3e8k9kHvyC9H"
      },
      "execution_count": null,
      "outputs": []
    },
    {
      "cell_type": "code",
      "source": [
        "# Similarity Calculation using Cosine Similarity\n",
        "similarity_matrix = cosine_similarity(customer_features.drop('CustomerID', axis=1))"
      ],
      "metadata": {
        "id": "KvUO8iVJyC_o"
      },
      "execution_count": null,
      "outputs": []
    },
    {
      "cell_type": "code",
      "source": [
        "# Create a dictionary to store top 3 similar customers for each customer\n",
        "lookalike_map = {}\n",
        "for i, customer in enumerate(customer_features['CustomerID']):\n",
        "    # Exclude the customer from their own similarity\n",
        "    similarity_scores = similarity_matrix[i]\n",
        "    similarity_scores[i] = -1\n",
        "    top_3_customers = similarity_scores.argsort()[-3:][::-1]  # Get indices of top 3 customers\n",
        "    top_3_ids = customer_features['CustomerID'].iloc[top_3_customers].values\n",
        "    top_3_scores = similarity_scores[top_3_customers]\n",
        "\n",
        "    lookalike_map[customer] = [(top_3_ids[i], top_3_scores[i]) for i in range(3)]"
      ],
      "metadata": {
        "id": "sOqEt_1VyDB2"
      },
      "execution_count": null,
      "outputs": []
    },
    {
      "cell_type": "code",
      "source": [
        "lookalike_data = []\n",
        "for customer, lookalikes in lookalike_map.items():\n",
        "    for lookalike, score in lookalikes:\n",
        "        lookalike_data.append({'CustomerID': customer, 'LookalikeCustomerID': lookalike, 'SimilarityScore': score})"
      ],
      "metadata": {
        "id": "URp9qAbSyDFM"
      },
      "execution_count": null,
      "outputs": []
    },
    {
      "cell_type": "code",
      "source": [
        "lookalike_df = pd.DataFrame(lookalike_data)\n",
        "lookalike_df.to_csv(\"Lookalike.csv\", index=False)"
      ],
      "metadata": {
        "id": "OJH1juJzy0HM"
      },
      "execution_count": null,
      "outputs": []
    },
    {
      "cell_type": "code",
      "source": [
        "top_20_customers = customer_features['CustomerID'].iloc[:20]\n",
        "print(lookalike_df[lookalike_df['CustomerID'].isin(top_20_customers)])"
      ],
      "metadata": {
        "colab": {
          "base_uri": "https://localhost:8080/"
        },
        "id": "KnhyJVqpy0Jl",
        "outputId": "305821f8-e7b1-4690-b175-b7b8cca7b781"
      },
      "execution_count": null,
      "outputs": [
        {
          "output_type": "stream",
          "name": "stdout",
          "text": [
            "   CustomerID LookalikeCustomerID  SimilarityScore\n",
            "0       C0001               C0152         0.980050\n",
            "1       C0001               C0064         0.970109\n",
            "2       C0001               C0174         0.925625\n",
            "3       C0002               C0062         0.981976\n",
            "4       C0002               C0159         0.942390\n",
            "5       C0002               C0025         0.882559\n",
            "6       C0003               C0199         0.973237\n",
            "7       C0003               C0197         0.956384\n",
            "8       C0003               C0069         0.951251\n",
            "9       C0004               C0075         0.951575\n",
            "10      C0004               C0175         0.946733\n",
            "11      C0004               C0041         0.941113\n",
            "12      C0005               C0031         0.994161\n",
            "13      C0005               C0140         0.986380\n",
            "14      C0005               C0199         0.921235\n",
            "15      C0006               C0079         0.988241\n",
            "16      C0006               C0139         0.968505\n",
            "17      C0006               C0196         0.924248\n",
            "18      C0007               C0005         0.881574\n",
            "19      C0007               C0059         0.857657\n",
            "20      C0007               C0031         0.855408\n",
            "21      C0008               C0017         0.995571\n",
            "22      C0008               C0113         0.992491\n",
            "23      C0008               C0162         0.985738\n",
            "24      C0009               C0198         0.933879\n",
            "25      C0009               C0056         0.915079\n",
            "26      C0009               C0195         0.893810\n",
            "27      C0010               C0142         0.975975\n",
            "28      C0010               C0176         0.974266\n",
            "29      C0010               C0077         0.919666\n",
            "30      C0011               C0107         0.991538\n",
            "31      C0011               C0126         0.958414\n",
            "32      C0011               C0087         0.931690\n",
            "33      C0012               C0123         0.984339\n",
            "34      C0012               C0137         0.965629\n",
            "35      C0012               C0052         0.957028\n",
            "36      C0013               C0183         0.987713\n",
            "37      C0013               C0016         0.987556\n",
            "38      C0013               C0074         0.986323\n",
            "39      C0015               C0131         0.953231\n",
            "40      C0015               C0137         0.937375\n",
            "41      C0015               C0123         0.902678\n",
            "42      C0016               C0013         0.987556\n",
            "43      C0016               C0183         0.983818\n",
            "44      C0016               C0074         0.972200\n",
            "45      C0017               C0113         0.998985\n",
            "46      C0017               C0008         0.995571\n",
            "47      C0017               C0162         0.988009\n",
            "48      C0019               C0112         0.931222\n",
            "49      C0019               C0191         0.882701\n",
            "50      C0019               C0070         0.872033\n",
            "51      C0021               C0051         0.996272\n",
            "52      C0021               C0122         0.994975\n",
            "53      C0021               C0200         0.990253\n",
            "54      C0022               C0200         0.993044\n",
            "55      C0022               C0067         0.989032\n",
            "56      C0022               C0122         0.987640\n",
            "57      C0023               C0168         0.991084\n",
            "58      C0023               C0155         0.870308\n",
            "59      C0023               C0087         0.858563\n"
          ]
        }
      ]
    },
    {
      "cell_type": "code",
      "source": [],
      "metadata": {
        "id": "ldG1ZMDyy0Lv"
      },
      "execution_count": null,
      "outputs": []
    },
    {
      "cell_type": "code",
      "source": [],
      "metadata": {
        "id": "aJJB5IYky0PQ"
      },
      "execution_count": null,
      "outputs": []
    },
    {
      "cell_type": "code",
      "source": [],
      "metadata": {
        "id": "YLgdZczx0upK"
      },
      "execution_count": null,
      "outputs": []
    },
    {
      "cell_type": "code",
      "source": [],
      "metadata": {
        "id": "j1b2sCpCl1mv"
      },
      "execution_count": null,
      "outputs": []
    }
  ]
}